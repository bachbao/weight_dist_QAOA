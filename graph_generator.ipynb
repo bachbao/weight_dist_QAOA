{
 "cells": [
  {
   "cell_type": "code",
   "execution_count": 1,
   "id": "b79ba74a-6621-4546-879a-66e7d7b672ce",
   "metadata": {
    "tags": []
   },
   "outputs": [
    {
     "data": {
      "text/html": [
       "\n",
       "\t\t\t<script type=\"text/javascript\">\n",
       "\t\t\t<!--\n",
       "\t\t\t\t\n",
       "\t\t\t{\n",
       "\t\t\t\tvar element = document.getElementById('NetworKit_script');\n",
       "\t\t\t\tif (element) {\n",
       "\t\t\t\t\telement.parentNode.removeChild(element);\n",
       "\t\t\t\t}\n",
       "\t\t\t\telement = document.createElement('script');\n",
       "\t\t\t\telement.type = 'text/javascript';\n",
       "\t\t\t\telement.innerHTML = 'function NetworKit_pageEmbed(id) { var i, j; var elements; elements = document.getElementById(id).getElementsByClassName(\"Plot\"); for (i=0; i<elements.length; i++) { elements[i].id = id + \"_Plot_\" + i; var data = elements[i].getAttribute(\"data-image\").split(\"|\"); elements[i].removeAttribute(\"data-image\"); var content = \"<div class=\\\\\"Image\\\\\" id=\\\\\"\" + elements[i].id + \"_Image\\\\\" />\"; elements[i].innerHTML = content; elements[i].setAttribute(\"data-image-index\", 0); elements[i].setAttribute(\"data-image-length\", data.length); for (j=0; j<data.length; j++) { elements[i].setAttribute(\"data-image-\" + j, data[j]); } NetworKit_plotUpdate(elements[i]); elements[i].onclick = function (e) { NetworKit_overlayShow((e.target) ? e.target : e.srcElement); } } elements = document.getElementById(id).getElementsByClassName(\"HeatCell\"); for (i=0; i<elements.length; i++) { var data = parseFloat(elements[i].getAttribute(\"data-heat\")); var color = \"#00FF00\"; if (data <= 1 && data > 0) { color = \"hsla(0, 100%, 75%, \" + (data) + \")\"; } else if (data <= 0 && data >= -1) { color = \"hsla(240, 100%, 75%, \" + (-data) + \")\"; } elements[i].style.backgroundColor = color; } elements = document.getElementById(id).getElementsByClassName(\"Details\"); for (i=0; i<elements.length; i++) { elements[i].setAttribute(\"data-title\", \"-\"); NetworKit_toggleDetails(elements[i]); elements[i].onclick = function (e) { NetworKit_toggleDetails((e.target) ? e.target : e.srcElement); } } elements = document.getElementById(id).getElementsByClassName(\"MathValue\"); for (i=elements.length-1; i>=0; i--) { value = elements[i].innerHTML.trim(); if (value === \"nan\") { elements[i].parentNode.innerHTML = \"\" } } elements = document.getElementById(id).getElementsByClassName(\"SubCategory\"); for (i=elements.length-1; i>=0; i--) { value = elements[i].innerHTML.trim(); if (value === \"\") { elements[i].parentNode.removeChild(elements[i]) } } elements = document.getElementById(id).getElementsByClassName(\"Category\"); for (i=elements.length-1; i>=0; i--) { value = elements[i].innerHTML.trim(); if (value === \"\") { elements[i].parentNode.removeChild(elements[i]) } } var isFirefox = false; try { isFirefox = typeof InstallTrigger !== \"undefined\"; } catch (e) {} if (!isFirefox) { alert(\"Currently the function\\'s output is only fully supported by Firefox.\"); } } function NetworKit_plotUpdate(source) { var index = source.getAttribute(\"data-image-index\"); var data = source.getAttribute(\"data-image-\" + index); var image = document.getElementById(source.id + \"_Image\"); image.style.backgroundImage = \"url(\" + data + \")\"; } function NetworKit_showElement(id, show) { var element = document.getElementById(id); element.style.display = (show) ? \"block\" : \"none\"; } function NetworKit_overlayShow(source) { NetworKit_overlayUpdate(source); NetworKit_showElement(\"NetworKit_Overlay\", true); } function NetworKit_overlayUpdate(source) { document.getElementById(\"NetworKit_Overlay_Title\").innerHTML = source.title; var index = source.getAttribute(\"data-image-index\"); var data = source.getAttribute(\"data-image-\" + index); var image = document.getElementById(\"NetworKit_Overlay_Image\"); image.setAttribute(\"data-id\", source.id); image.style.backgroundImage = \"url(\" + data + \")\"; var link = document.getElementById(\"NetworKit_Overlay_Toolbar_Bottom_Save\"); link.href = data; link.download = source.title + \".svg\"; } function NetworKit_overlayImageShift(delta) { var image = document.getElementById(\"NetworKit_Overlay_Image\"); var source = document.getElementById(image.getAttribute(\"data-id\")); var index = parseInt(source.getAttribute(\"data-image-index\")); var length = parseInt(source.getAttribute(\"data-image-length\")); var index = (index+delta) % length; if (index < 0) { index = length + index; } source.setAttribute(\"data-image-index\", index); NetworKit_overlayUpdate(source); } function NetworKit_toggleDetails(source) { var childs = source.children; var show = false; if (source.getAttribute(\"data-title\") == \"-\") { source.setAttribute(\"data-title\", \"+\"); show = false; } else { source.setAttribute(\"data-title\", \"-\"); show = true; } for (i=0; i<childs.length; i++) { if (show) { childs[i].style.display = \"block\"; } else { childs[i].style.display = \"none\"; } } }';\n",
       "\t\t\t\telement.setAttribute('id', 'NetworKit_script');\n",
       "\t\t\t\tdocument.head.appendChild(element);\n",
       "\t\t\t}\n",
       "\t\t\n",
       "\t\t\t\t\n",
       "\t\t\t{\n",
       "\t\t\t\tvar element = document.getElementById('NetworKit_style');\n",
       "\t\t\t\tif (element) {\n",
       "\t\t\t\t\telement.parentNode.removeChild(element);\n",
       "\t\t\t\t}\n",
       "\t\t\t\telement = document.createElement('style');\n",
       "\t\t\t\telement.type = 'text/css';\n",
       "\t\t\t\telement.innerHTML = '.NetworKit_Page { font-family: Arial, Helvetica, sans-serif; font-size: 14px; } .NetworKit_Page .Value:before { font-family: Arial, Helvetica, sans-serif; font-size: 1.05em; content: attr(data-title) \":\"; margin-left: -2.5em; padding-right: 0.5em; } .NetworKit_Page .Details .Value:before { display: block; } .NetworKit_Page .Value { font-family: monospace; white-space: pre; padding-left: 2.5em; white-space: -moz-pre-wrap !important; white-space: -pre-wrap; white-space: -o-pre-wrap; white-space: pre-wrap; word-wrap: break-word; tab-size: 4; -moz-tab-size: 4; } .NetworKit_Page .Category { clear: both; padding-left: 1em; margin-bottom: 1.5em; } .NetworKit_Page .Category:before { content: attr(data-title); font-size: 1.75em; display: block; margin-left: -0.8em; margin-bottom: 0.5em; } .NetworKit_Page .SubCategory { margin-bottom: 1.5em; padding-left: 1em; } .NetworKit_Page .SubCategory:before { font-size: 1.6em; display: block; margin-left: -0.8em; margin-bottom: 0.5em; } .NetworKit_Page .SubCategory[data-title]:before { content: attr(data-title); } .NetworKit_Page .Block { display: block; } .NetworKit_Page .Block:after { content: \".\"; visibility: hidden; display: block; height: 0; clear: both; } .NetworKit_Page .Block .Thumbnail_Overview, .NetworKit_Page .Block .Thumbnail_ScatterPlot { width: 260px; float: left; } .NetworKit_Page .Block .Thumbnail_Overview img, .NetworKit_Page .Block .Thumbnail_ScatterPlot img { width: 260px; } .NetworKit_Page .Block .Thumbnail_Overview:before, .NetworKit_Page .Block .Thumbnail_ScatterPlot:before { display: block; text-align: center; font-weight: bold; } .NetworKit_Page .Block .Thumbnail_Overview:before { content: attr(data-title); } .NetworKit_Page .HeatCell { font-family: \"Courier New\", Courier, monospace; cursor: pointer; } .NetworKit_Page .HeatCell, .NetworKit_Page .HeatCellName { display: inline; padding: 0.1em; margin-right: 2px; background-color: #FFFFFF } .NetworKit_Page .HeatCellName { margin-left: 0.25em; } .NetworKit_Page .HeatCell:before { content: attr(data-heat); display: inline-block; color: #000000; width: 4em; text-align: center; } .NetworKit_Page .Measure { clear: both; } .NetworKit_Page .Measure .Details { cursor: pointer; } .NetworKit_Page .Measure .Details:before { content: \"[\" attr(data-title) \"]\"; display: block; } .NetworKit_Page .Measure .Details .Value { border-left: 1px dotted black; margin-left: 0.4em; padding-left: 3.5em; pointer-events: none; } .NetworKit_Page .Measure .Details .Spacer:before { content: \".\"; opacity: 0.0; pointer-events: none; } .NetworKit_Page .Measure .Plot { width: 440px; height: 440px; cursor: pointer; float: left; margin-left: -0.9em; margin-right: 20px; } .NetworKit_Page .Measure .Plot .Image { background-repeat: no-repeat; background-position: center center; background-size: contain; height: 100%; pointer-events: none; } .NetworKit_Page .Measure .Stat { width: 500px; float: left; } .NetworKit_Page .Measure .Stat .Group { padding-left: 1.25em; margin-bottom: 0.75em; } .NetworKit_Page .Measure .Stat .Group .Title { font-size: 1.1em; display: block; margin-bottom: 0.3em; margin-left: -0.75em; border-right-style: dotted; border-right-width: 1px; border-bottom-style: dotted; border-bottom-width: 1px; background-color: #D0D0D0; padding-left: 0.2em; } .NetworKit_Page .Measure .Stat .Group .List { -webkit-column-count: 3; -moz-column-count: 3; column-count: 3; } .NetworKit_Page .Measure .Stat .Group .List .Entry { position: relative; line-height: 1.75em; } .NetworKit_Page .Measure .Stat .Group .List .Entry[data-tooltip]:before { position: absolute; left: 0; top: -40px; background-color: #808080; color: #ffffff; height: 30px; line-height: 30px; border-radius: 5px; padding: 0 15px; content: attr(data-tooltip); white-space: nowrap; display: none; } .NetworKit_Page .Measure .Stat .Group .List .Entry[data-tooltip]:after { position: absolute; left: 15px; top: -10px; border-top: 7px solid #808080; border-left: 7px solid transparent; border-right: 7px solid transparent; content: \"\"; display: none; } .NetworKit_Page .Measure .Stat .Group .List .Entry[data-tooltip]:hover:after, .NetworKit_Page .Measure .Stat .Group .List .Entry[data-tooltip]:hover:before { display: block; } .NetworKit_Page .Measure .Stat .Group .List .Entry .MathValue { font-family: \"Courier New\", Courier, monospace; } .NetworKit_Page .Measure:after { content: \".\"; visibility: hidden; display: block; height: 0; clear: both; } .NetworKit_Page .PartitionPie { clear: both; } .NetworKit_Page .PartitionPie img { width: 600px; } #NetworKit_Overlay { left: 0px; top: 0px; display: none; position: absolute; width: 100%; height: 100%; background-color: rgba(0,0,0,0.6); z-index: 1000; } #NetworKit_Overlay_Title { position: absolute; color: white; transform: rotate(-90deg); width: 32em; height: 32em; padding-right: 0.5em; padding-top: 0.5em; text-align: right; font-size: 40px; } #NetworKit_Overlay .button { background: white; cursor: pointer; } #NetworKit_Overlay .button:before { size: 13px; display: inline-block; text-align: center; margin-top: 0.5em; margin-bottom: 0.5em; width: 1.5em; height: 1.5em; } #NetworKit_Overlay .icon-close:before { content: \"X\"; } #NetworKit_Overlay .icon-previous:before { content: \"P\"; } #NetworKit_Overlay .icon-next:before { content: \"N\"; } #NetworKit_Overlay .icon-save:before { content: \"S\"; } #NetworKit_Overlay_Toolbar_Top, #NetworKit_Overlay_Toolbar_Bottom { position: absolute; width: 40px; right: 13px; text-align: right; z-index: 1100; } #NetworKit_Overlay_Toolbar_Top { top: 0.5em; } #NetworKit_Overlay_Toolbar_Bottom { Bottom: 0.5em; } #NetworKit_Overlay_ImageContainer { position: absolute; top: 5%; left: 5%; height: 90%; width: 90%; background-repeat: no-repeat; background-position: center center; background-size: contain; } #NetworKit_Overlay_Image { height: 100%; width: 100%; background-repeat: no-repeat; background-position: center center; background-size: contain; }';\n",
       "\t\t\t\telement.setAttribute('id', 'NetworKit_style');\n",
       "\t\t\t\tdocument.head.appendChild(element);\n",
       "\t\t\t}\n",
       "\t\t\n",
       "\t\t\t\t\n",
       "\t\t\t{\n",
       "\t\t\t\tvar element = document.getElementById('NetworKit_Overlay');\n",
       "\t\t\t\tif (element) {\n",
       "\t\t\t\t\telement.parentNode.removeChild(element);\n",
       "\t\t\t\t}\n",
       "\t\t\t\telement = document.createElement('div');\n",
       "\t\t\t\telement.innerHTML = '<div id=\"NetworKit_Overlay_Toolbar_Top\"><div class=\"button icon-close\" id=\"NetworKit_Overlay_Close\" /></div><div id=\"NetworKit_Overlay_Title\" /> <div id=\"NetworKit_Overlay_ImageContainer\"> <div id=\"NetworKit_Overlay_Image\" /> </div> <div id=\"NetworKit_Overlay_Toolbar_Bottom\"> <div class=\"button icon-previous\" onclick=\"NetworKit_overlayImageShift(-1)\" /> <div class=\"button icon-next\" onclick=\"NetworKit_overlayImageShift(1)\" /> <a id=\"NetworKit_Overlay_Toolbar_Bottom_Save\"><div class=\"button icon-save\" /></a> </div>';\n",
       "\t\t\t\telement.setAttribute('id', 'NetworKit_Overlay');\n",
       "\t\t\t\tdocument.body.appendChild(element);\n",
       "\t\t\t\tdocument.getElementById('NetworKit_Overlay_Close').onclick = function (e) {\n",
       "\t\t\t\t\tdocument.getElementById('NetworKit_Overlay').style.display = 'none';\n",
       "\t\t\t\t}\n",
       "\t\t\t}\n",
       "\t\t\n",
       "\t\t\t-->\n",
       "\t\t\t</script>\n",
       "\t\t"
      ]
     },
     "metadata": {},
     "output_type": "display_data"
    }
   ],
   "source": [
    "import random\n",
    "import pickle\n",
    "import MQLib\n",
    "import numpy as np\n",
    "import networkit as nk \n",
    "from networkit.algebraic import adjacencyMatrix"
   ]
  },
  {
   "cell_type": "markdown",
   "id": "7952f2ab-7af1-4ecd-b8f6-c001e6aa853d",
   "metadata": {},
   "source": [
    "# Graph generator"
   ]
  },
  {
   "cell_type": "code",
   "execution_count": 3,
   "id": "e8f1eb4a-61ea-42f5-8057-89df554d5972",
   "metadata": {
    "tags": []
   },
   "outputs": [],
   "source": [
    "def solve_maxcut_problem_with_mqlib(adjacency_matrix: np.ndarray,\n",
    "                                    solver_timeout: float = 0.5,\n",
    "                                    solver_name: str = 'BURER2002',\n",
    "                                    solver_seed = 42):\n",
    "\n",
    "    dat = adjacency_matrix.copy()\n",
    "    mqlib_instance = MQLib.Instance(problem=\"M\",\n",
    "                                    dat=dat)\n",
    "    # MQLIB MAXIMIZES <x|Q|x> if QUBO is given.\n",
    "    mqlib_result = MQLib.runHeuristic(heuristic=solver_name,\n",
    "                                   instance=mqlib_instance,\n",
    "                                   rtsec=solver_timeout,\n",
    "                                   # TODO FBM: WHat is this helper function?\n",
    "                                   cb_fun=lambda x: 1,\n",
    "                                   seed=solver_seed)\n",
    "    mqlib_result['solution'] = (1 - mqlib_result['solution']) / 2\n",
    "    mqlib_result['solution'] = mqlib_result['solution'].astype(int)\n",
    "    return mqlib_result"
   ]
  },
  {
   "cell_type": "code",
   "execution_count": 4,
   "id": "4148955d-c373-4fba-8d3d-a9a5b91af770",
   "metadata": {
    "tags": []
   },
   "outputs": [],
   "source": [
    "for num_node in range(13, 20):\n",
    "    graph_set = []\n",
    "    while len(graph_set) < 10:\n",
    "        erg = nk.generators.ErdosRenyiGenerator(num_node, 0.3)\n",
    "        ergG = erg.generate()\n",
    "        cc = nk.components.ConnectedComponents(ergG)\n",
    "        cc.run()\n",
    "        if cc.numberOfComponents() == 1:\n",
    "            graph_set.append(ergG)\n",
    "    with open(f'graph_instances/Unweighted_graphs_n={num_node}.pkl', 'wb') as f:\n",
    "        pickle.dump(graph_set, f)"
   ]
  },
  {
   "cell_type": "code",
   "execution_count": 5,
   "id": "8dc0bb86-c695-44ed-97f0-4674408e959e",
   "metadata": {
    "tags": []
   },
   "outputs": [],
   "source": [
    "for num_node in range(13, 20):\n",
    "    weighted_graph_set = []\n",
    "    with open(f'graph_instances/Unweighted_graphs_n={num_node}.pkl', 'rb') as f:\n",
    "        graph_set = pickle.load(f)\n",
    "    for G in graph_set:\n",
    "        graph = nk.graphtools.toWeighted(G)\n",
    "        for u, v in graph.iterEdges():\n",
    "            edgeWeight = random.uniform(0, 1)\n",
    "            graph.setWeight(u, v, edgeWeight)\n",
    "        weighted_graph_set.append(graph)\n",
    "    with open(f'graph_instances/random_weighted_graphs_n={num_node}.pkl', 'wb') as f:\n",
    "        pickle.dump(weighted_graph_set, f)"
   ]
  },
  {
   "cell_type": "code",
   "execution_count": 6,
   "id": "11b4956a-e869-4c08-b345-1e1caa465e62",
   "metadata": {
    "tags": []
   },
   "outputs": [],
   "source": [
    "for num_node in range(13, 20):\n",
    "    weighted_graph_set = []\n",
    "    with open(f'graph_instances/Unweighted_graphs_n={num_node}.pkl', 'rb') as f:\n",
    "        graph_set = pickle.load(f)\n",
    "    distributed_edge_weight = [random.uniform(0, 1) for _ in range(3)]\n",
    "    for G in graph_set:\n",
    "        graph = nk.graphtools.toWeighted(G)\n",
    "        for u, v in graph.iterEdges():\n",
    "            graph.setWeight(u, v, random.choice(distributed_edge_weight))\n",
    "        weighted_graph_set.append(graph)\n",
    "    with open(f'graph_instances/distributed_weighted_graphs_n={num_node}.pkl', 'wb') as f:\n",
    "        pickle.dump(weighted_graph_set, f)"
   ]
  },
  {
   "cell_type": "markdown",
   "id": "aae6a131-b4c4-4953-ba1f-fae486c9cca8",
   "metadata": {},
   "source": [
    "# Best solution"
   ]
  },
  {
   "cell_type": "code",
   "execution_count": 20,
   "id": "a425db1c-9c84-4ede-a34d-2ceba2ff3faf",
   "metadata": {
    "tags": []
   },
   "outputs": [],
   "source": [
    "method_types = [\"std\", \"ma\", \"wd\"]"
   ]
  },
  {
   "cell_type": "code",
   "execution_count": 21,
   "id": "7e322cb2-0826-489c-a413-d104b4a47e3b",
   "metadata": {
    "tags": []
   },
   "outputs": [],
   "source": [
    "unweighted_obj = {}\n",
    "for num_node in range(8, 13):\n",
    "    unweighted_best_obj = [] \n",
    "    with open(f'graph_instances/Unweighted_graphs_n={num_node}.pkl', 'rb') as f:\n",
    "        graph_set = pickle.load(f)\n",
    "    for graph in graph_set:\n",
    "        result = solve_maxcut_problem_with_mqlib(adjacency_matrix = adjacencyMatrix(graph).toarray())\n",
    "        unweighted_best_obj.append(result['objval'])\n",
    "    unweighted_obj[num_node] = unweighted_best_obj"
   ]
  },
  {
   "cell_type": "code",
   "execution_count": 22,
   "id": "3dded4cb-44c4-49c2-9c9c-2f4b4d618709",
   "metadata": {
    "tags": []
   },
   "outputs": [],
   "source": [
    "unweighted_qaoa_result = {}\n",
    "for num_node in range(8, 13):\n",
    "    with open(f'result/res_Unweighted_graphs_n={num_node}.pkl', 'rb') as f:\n",
    "        obj_per_Gnode = pickle.load(f)\n",
    "    method_result = {}\n",
    "    i = 0\n",
    "    for method in method_types:\n",
    "        method_result[method] = np.average(np.array(obj_per_Gnode[i: i+10])/np.array(unweighted_obj[num_node]))\n",
    "        i += 10\n",
    "    unweighted_qaoa_result[num_node] = method_result"
   ]
  },
  {
   "cell_type": "code",
   "execution_count": 23,
   "id": "72db797b-75b2-488e-9640-6b1bce33a67a",
   "metadata": {
    "tags": []
   },
   "outputs": [
    {
     "data": {
      "text/plain": [
       "{8: {'std': 0.6628625645069117,\n",
       "  'ma': 0.8742249827910994,\n",
       "  'wd': 0.6628606057438315},\n",
       " 9: {'std': 0.7248535112587066,\n",
       "  'ma': 0.8701020628137022,\n",
       "  'wd': 0.724853644361213},\n",
       " 10: {'std': 0.701434526367912,\n",
       "  'ma': 0.8860948271586402,\n",
       "  'wd': 0.7014345335926652},\n",
       " 11: {'std': 0.6952404518036877,\n",
       "  'ma': 0.8475363938828533,\n",
       "  'wd': 0.6952408522158715},\n",
       " 12: {'std': 0.7196232369381989,\n",
       "  'ma': 0.8621193439679349,\n",
       "  'wd': 0.7196350129188442}}"
      ]
     },
     "execution_count": 23,
     "metadata": {},
     "output_type": "execute_result"
    }
   ],
   "source": [
    "unweighted_qaoa_result"
   ]
  },
  {
   "cell_type": "code",
   "execution_count": 24,
   "id": "af2e2026-1a43-4b37-b1f3-9e76304dccbf",
   "metadata": {},
   "outputs": [],
   "source": [
    "random_weighted_obj = {}\n",
    "for num_node in range(8, 13):\n",
    "    random_weighted_best_obj = [] \n",
    "    with open(f'graph_instances/random_weighted_graphs_n={num_node}.pkl', 'rb') as f:\n",
    "        graph_set = pickle.load(f)\n",
    "    for graph in graph_set:\n",
    "        result = solve_maxcut_problem_with_mqlib(adjacency_matrix = adjacencyMatrix(graph).toarray())\n",
    "        random_weighted_best_obj.append(result['objval'])\n",
    "    random_weighted_obj[num_node] = random_weighted_best_obj"
   ]
  },
  {
   "cell_type": "code",
   "execution_count": 25,
   "id": "834c9172-f078-4e2c-be85-c292d544876b",
   "metadata": {
    "tags": []
   },
   "outputs": [],
   "source": [
    "random_weighted_qaoa_result = {}\n",
    "for num_node in range(8, 13):\n",
    "    with open(f'result/res_random_weighted_graphs_n={num_node}.pkl', 'rb') as f:\n",
    "        obj_per_Gnode = pickle.load(f)\n",
    "    method_result = {}\n",
    "    i = 0\n",
    "    for method in method_types:\n",
    "        method_result[method] = np.average(np.array(obj_per_Gnode[i: i+10])/np.array(unweighted_obj[num_node]))\n",
    "        i += 10\n",
    "    random_weighted_qaoa_result[num_node] = method_result"
   ]
  },
  {
   "cell_type": "code",
   "execution_count": 26,
   "id": "92b62477-ce50-4cd2-9157-6888917f7cef",
   "metadata": {
    "tags": []
   },
   "outputs": [
    {
     "data": {
      "text/plain": [
       "{8: {'std': 0.7579966158840921,\n",
       "  'ma': 0.8593239462288889,\n",
       "  'wd': 0.8057010003898784},\n",
       " 9: {'std': 0.76903936816151,\n",
       "  'ma': 0.8679098402882565,\n",
       "  'wd': 0.8079855836318076},\n",
       " 10: {'std': 0.759604437966342,\n",
       "  'ma': 0.864848714399043,\n",
       "  'wd': 0.8101962170941317},\n",
       " 11: {'std': 0.7473354622056516,\n",
       "  'ma': 0.8301802449091381,\n",
       "  'wd': 0.7923751128199463},\n",
       " 12: {'std': 0.7738797998058987,\n",
       "  'ma': 0.856716489701744,\n",
       "  'wd': 0.8155119649937292}}"
      ]
     },
     "execution_count": 26,
     "metadata": {},
     "output_type": "execute_result"
    }
   ],
   "source": [
    "random_weighted_qaoa_result"
   ]
  },
  {
   "cell_type": "code",
   "execution_count": 27,
   "id": "7c7aba5e-84e3-4d72-a67f-6abed723328a",
   "metadata": {},
   "outputs": [],
   "source": [
    "distributed_weighted_obj = {}\n",
    "for num_node in range(8, 13):\n",
    "    distributed_weighted_best_obj = [] \n",
    "    with open(f'graph_instances/distributed_weighted_graphs_n={num_node}.pkl', 'rb') as f:\n",
    "        graph_set = pickle.load(f)\n",
    "    for graph in graph_set:\n",
    "        result = solve_maxcut_problem_with_mqlib(adjacency_matrix = adjacencyMatrix(graph).toarray())\n",
    "        distributed_weighted_best_obj.append(result['objval'])\n",
    "    distributed_weighted_obj[num_node] = distributed_weighted_best_obj"
   ]
  },
  {
   "cell_type": "code",
   "execution_count": 28,
   "id": "9bc61d09-b7e3-4505-85f7-13dcd6f31861",
   "metadata": {
    "tags": []
   },
   "outputs": [],
   "source": [
    "distributed_weighted_qaoa_result = {}\n",
    "for num_node in range(8, 13):\n",
    "    with open(f'result/res_distributed_weighted_graphs_n={num_node}.pkl', 'rb') as f:\n",
    "        obj_per_Gnode = pickle.load(f)\n",
    "    method_result = {}\n",
    "    i = 0\n",
    "    for method in method_types:\n",
    "        method_result[method] = np.average(np.array(obj_per_Gnode[i: i+10])/np.array(unweighted_obj[num_node]))\n",
    "        i += 10\n",
    "    distributed_weighted_qaoa_result[num_node] = method_result"
   ]
  },
  {
   "cell_type": "code",
   "execution_count": 29,
   "id": "61abfeaa-de8b-45e9-962b-87a7a5809a35",
   "metadata": {
    "tags": []
   },
   "outputs": [
    {
     "data": {
      "text/plain": [
       "{8: {'std': 0.7693319645081809,\n",
       "  'ma': 0.8717798212139524,\n",
       "  'wd': 0.784555401080428},\n",
       " 9: {'std': 0.7470394815278942,\n",
       "  'ma': 0.8603369120149564,\n",
       "  'wd': 0.7948822653374936},\n",
       " 10: {'std': 0.7721153060692225,\n",
       "  'ma': 0.8755228947370547,\n",
       "  'wd': 0.7953858317846725},\n",
       " 11: {'std': 0.7544113831472818,\n",
       "  'ma': 0.8502017310864751,\n",
       "  'wd': 0.7780667870232307},\n",
       " 12: {'std': 0.7625248938772609,\n",
       "  'ma': 0.8463094450912365,\n",
       "  'wd': 0.7963192822439905}}"
      ]
     },
     "execution_count": 29,
     "metadata": {},
     "output_type": "execute_result"
    }
   ],
   "source": [
    "distributed_weighted_qaoa_result"
   ]
  },
  {
   "cell_type": "code",
   "execution_count": null,
   "id": "67311498-9742-4289-a3f5-8c7d705a2de9",
   "metadata": {},
   "outputs": [],
   "source": [
    "# algebraic distance: \"eigen-based weighted degree\"; \n",
    "\"\"\"\n",
    "construct graph Laplacian,\n",
    "compute second smallest eigenvector (Fiedler vector),\n",
    "put the edge weight as absoluted difference of normalized absolute difference square between vector value (this indicates the connectivity between 2 nodes that has edge)\n",
    "Small difference indicates more connectivity -> need to take inverse\n",
    "\n",
    "For algebraic distance,\n",
    "randomly assign each node with a value from range [-1, 1]\n",
    "perform relaxation based to minimize the distance between two node based on their weighted edge\n",
    "do it for 5 initialization each with 20 iterations\n",
    "finally, assign weight = 1/(distance between two node) * current_weight (close distance indicates better connectivity)\n",
    "\"\"\""
   ]
  }
 ],
 "metadata": {
  "kernelspec": {
   "display_name": "Python [conda env:QOKit]",
   "language": "python",
   "name": "conda-env-QOKit-py"
  },
  "language_info": {
   "codemirror_mode": {
    "name": "ipython",
    "version": 3
   },
   "file_extension": ".py",
   "mimetype": "text/x-python",
   "name": "python",
   "nbconvert_exporter": "python",
   "pygments_lexer": "ipython3",
   "version": "3.10.14"
  }
 },
 "nbformat": 4,
 "nbformat_minor": 5
}
