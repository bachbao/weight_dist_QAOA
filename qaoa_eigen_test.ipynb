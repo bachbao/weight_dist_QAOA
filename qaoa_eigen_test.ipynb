{
 "cells": [
  {
   "cell_type": "code",
   "execution_count": 1,
   "id": "26eb3169-3d13-4484-9838-e839b3c7896b",
   "metadata": {
    "tags": []
   },
   "outputs": [
    {
     "data": {
      "text/html": [
       "\n",
       "\t\t\t<script type=\"text/javascript\">\n",
       "\t\t\t<!--\n",
       "\t\t\t\t\n",
       "\t\t\t{\n",
       "\t\t\t\tvar element = document.getElementById('NetworKit_script');\n",
       "\t\t\t\tif (element) {\n",
       "\t\t\t\t\telement.parentNode.removeChild(element);\n",
       "\t\t\t\t}\n",
       "\t\t\t\telement = document.createElement('script');\n",
       "\t\t\t\telement.type = 'text/javascript';\n",
       "\t\t\t\telement.innerHTML = 'function NetworKit_pageEmbed(id) { var i, j; var elements; elements = document.getElementById(id).getElementsByClassName(\"Plot\"); for (i=0; i<elements.length; i++) { elements[i].id = id + \"_Plot_\" + i; var data = elements[i].getAttribute(\"data-image\").split(\"|\"); elements[i].removeAttribute(\"data-image\"); var content = \"<div class=\\\\\"Image\\\\\" id=\\\\\"\" + elements[i].id + \"_Image\\\\\" />\"; elements[i].innerHTML = content; elements[i].setAttribute(\"data-image-index\", 0); elements[i].setAttribute(\"data-image-length\", data.length); for (j=0; j<data.length; j++) { elements[i].setAttribute(\"data-image-\" + j, data[j]); } NetworKit_plotUpdate(elements[i]); elements[i].onclick = function (e) { NetworKit_overlayShow((e.target) ? e.target : e.srcElement); } } elements = document.getElementById(id).getElementsByClassName(\"HeatCell\"); for (i=0; i<elements.length; i++) { var data = parseFloat(elements[i].getAttribute(\"data-heat\")); var color = \"#00FF00\"; if (data <= 1 && data > 0) { color = \"hsla(0, 100%, 75%, \" + (data) + \")\"; } else if (data <= 0 && data >= -1) { color = \"hsla(240, 100%, 75%, \" + (-data) + \")\"; } elements[i].style.backgroundColor = color; } elements = document.getElementById(id).getElementsByClassName(\"Details\"); for (i=0; i<elements.length; i++) { elements[i].setAttribute(\"data-title\", \"-\"); NetworKit_toggleDetails(elements[i]); elements[i].onclick = function (e) { NetworKit_toggleDetails((e.target) ? e.target : e.srcElement); } } elements = document.getElementById(id).getElementsByClassName(\"MathValue\"); for (i=elements.length-1; i>=0; i--) { value = elements[i].innerHTML.trim(); if (value === \"nan\") { elements[i].parentNode.innerHTML = \"\" } } elements = document.getElementById(id).getElementsByClassName(\"SubCategory\"); for (i=elements.length-1; i>=0; i--) { value = elements[i].innerHTML.trim(); if (value === \"\") { elements[i].parentNode.removeChild(elements[i]) } } elements = document.getElementById(id).getElementsByClassName(\"Category\"); for (i=elements.length-1; i>=0; i--) { value = elements[i].innerHTML.trim(); if (value === \"\") { elements[i].parentNode.removeChild(elements[i]) } } var isFirefox = false; try { isFirefox = typeof InstallTrigger !== \"undefined\"; } catch (e) {} if (!isFirefox) { alert(\"Currently the function\\'s output is only fully supported by Firefox.\"); } } function NetworKit_plotUpdate(source) { var index = source.getAttribute(\"data-image-index\"); var data = source.getAttribute(\"data-image-\" + index); var image = document.getElementById(source.id + \"_Image\"); image.style.backgroundImage = \"url(\" + data + \")\"; } function NetworKit_showElement(id, show) { var element = document.getElementById(id); element.style.display = (show) ? \"block\" : \"none\"; } function NetworKit_overlayShow(source) { NetworKit_overlayUpdate(source); NetworKit_showElement(\"NetworKit_Overlay\", true); } function NetworKit_overlayUpdate(source) { document.getElementById(\"NetworKit_Overlay_Title\").innerHTML = source.title; var index = source.getAttribute(\"data-image-index\"); var data = source.getAttribute(\"data-image-\" + index); var image = document.getElementById(\"NetworKit_Overlay_Image\"); image.setAttribute(\"data-id\", source.id); image.style.backgroundImage = \"url(\" + data + \")\"; var link = document.getElementById(\"NetworKit_Overlay_Toolbar_Bottom_Save\"); link.href = data; link.download = source.title + \".svg\"; } function NetworKit_overlayImageShift(delta) { var image = document.getElementById(\"NetworKit_Overlay_Image\"); var source = document.getElementById(image.getAttribute(\"data-id\")); var index = parseInt(source.getAttribute(\"data-image-index\")); var length = parseInt(source.getAttribute(\"data-image-length\")); var index = (index+delta) % length; if (index < 0) { index = length + index; } source.setAttribute(\"data-image-index\", index); NetworKit_overlayUpdate(source); } function NetworKit_toggleDetails(source) { var childs = source.children; var show = false; if (source.getAttribute(\"data-title\") == \"-\") { source.setAttribute(\"data-title\", \"+\"); show = false; } else { source.setAttribute(\"data-title\", \"-\"); show = true; } for (i=0; i<childs.length; i++) { if (show) { childs[i].style.display = \"block\"; } else { childs[i].style.display = \"none\"; } } }';\n",
       "\t\t\t\telement.setAttribute('id', 'NetworKit_script');\n",
       "\t\t\t\tdocument.head.appendChild(element);\n",
       "\t\t\t}\n",
       "\t\t\n",
       "\t\t\t\t\n",
       "\t\t\t{\n",
       "\t\t\t\tvar element = document.getElementById('NetworKit_style');\n",
       "\t\t\t\tif (element) {\n",
       "\t\t\t\t\telement.parentNode.removeChild(element);\n",
       "\t\t\t\t}\n",
       "\t\t\t\telement = document.createElement('style');\n",
       "\t\t\t\telement.type = 'text/css';\n",
       "\t\t\t\telement.innerHTML = '.NetworKit_Page { font-family: Arial, Helvetica, sans-serif; font-size: 14px; } .NetworKit_Page .Value:before { font-family: Arial, Helvetica, sans-serif; font-size: 1.05em; content: attr(data-title) \":\"; margin-left: -2.5em; padding-right: 0.5em; } .NetworKit_Page .Details .Value:before { display: block; } .NetworKit_Page .Value { font-family: monospace; white-space: pre; padding-left: 2.5em; white-space: -moz-pre-wrap !important; white-space: -pre-wrap; white-space: -o-pre-wrap; white-space: pre-wrap; word-wrap: break-word; tab-size: 4; -moz-tab-size: 4; } .NetworKit_Page .Category { clear: both; padding-left: 1em; margin-bottom: 1.5em; } .NetworKit_Page .Category:before { content: attr(data-title); font-size: 1.75em; display: block; margin-left: -0.8em; margin-bottom: 0.5em; } .NetworKit_Page .SubCategory { margin-bottom: 1.5em; padding-left: 1em; } .NetworKit_Page .SubCategory:before { font-size: 1.6em; display: block; margin-left: -0.8em; margin-bottom: 0.5em; } .NetworKit_Page .SubCategory[data-title]:before { content: attr(data-title); } .NetworKit_Page .Block { display: block; } .NetworKit_Page .Block:after { content: \".\"; visibility: hidden; display: block; height: 0; clear: both; } .NetworKit_Page .Block .Thumbnail_Overview, .NetworKit_Page .Block .Thumbnail_ScatterPlot { width: 260px; float: left; } .NetworKit_Page .Block .Thumbnail_Overview img, .NetworKit_Page .Block .Thumbnail_ScatterPlot img { width: 260px; } .NetworKit_Page .Block .Thumbnail_Overview:before, .NetworKit_Page .Block .Thumbnail_ScatterPlot:before { display: block; text-align: center; font-weight: bold; } .NetworKit_Page .Block .Thumbnail_Overview:before { content: attr(data-title); } .NetworKit_Page .HeatCell { font-family: \"Courier New\", Courier, monospace; cursor: pointer; } .NetworKit_Page .HeatCell, .NetworKit_Page .HeatCellName { display: inline; padding: 0.1em; margin-right: 2px; background-color: #FFFFFF } .NetworKit_Page .HeatCellName { margin-left: 0.25em; } .NetworKit_Page .HeatCell:before { content: attr(data-heat); display: inline-block; color: #000000; width: 4em; text-align: center; } .NetworKit_Page .Measure { clear: both; } .NetworKit_Page .Measure .Details { cursor: pointer; } .NetworKit_Page .Measure .Details:before { content: \"[\" attr(data-title) \"]\"; display: block; } .NetworKit_Page .Measure .Details .Value { border-left: 1px dotted black; margin-left: 0.4em; padding-left: 3.5em; pointer-events: none; } .NetworKit_Page .Measure .Details .Spacer:before { content: \".\"; opacity: 0.0; pointer-events: none; } .NetworKit_Page .Measure .Plot { width: 440px; height: 440px; cursor: pointer; float: left; margin-left: -0.9em; margin-right: 20px; } .NetworKit_Page .Measure .Plot .Image { background-repeat: no-repeat; background-position: center center; background-size: contain; height: 100%; pointer-events: none; } .NetworKit_Page .Measure .Stat { width: 500px; float: left; } .NetworKit_Page .Measure .Stat .Group { padding-left: 1.25em; margin-bottom: 0.75em; } .NetworKit_Page .Measure .Stat .Group .Title { font-size: 1.1em; display: block; margin-bottom: 0.3em; margin-left: -0.75em; border-right-style: dotted; border-right-width: 1px; border-bottom-style: dotted; border-bottom-width: 1px; background-color: #D0D0D0; padding-left: 0.2em; } .NetworKit_Page .Measure .Stat .Group .List { -webkit-column-count: 3; -moz-column-count: 3; column-count: 3; } .NetworKit_Page .Measure .Stat .Group .List .Entry { position: relative; line-height: 1.75em; } .NetworKit_Page .Measure .Stat .Group .List .Entry[data-tooltip]:before { position: absolute; left: 0; top: -40px; background-color: #808080; color: #ffffff; height: 30px; line-height: 30px; border-radius: 5px; padding: 0 15px; content: attr(data-tooltip); white-space: nowrap; display: none; } .NetworKit_Page .Measure .Stat .Group .List .Entry[data-tooltip]:after { position: absolute; left: 15px; top: -10px; border-top: 7px solid #808080; border-left: 7px solid transparent; border-right: 7px solid transparent; content: \"\"; display: none; } .NetworKit_Page .Measure .Stat .Group .List .Entry[data-tooltip]:hover:after, .NetworKit_Page .Measure .Stat .Group .List .Entry[data-tooltip]:hover:before { display: block; } .NetworKit_Page .Measure .Stat .Group .List .Entry .MathValue { font-family: \"Courier New\", Courier, monospace; } .NetworKit_Page .Measure:after { content: \".\"; visibility: hidden; display: block; height: 0; clear: both; } .NetworKit_Page .PartitionPie { clear: both; } .NetworKit_Page .PartitionPie img { width: 600px; } #NetworKit_Overlay { left: 0px; top: 0px; display: none; position: absolute; width: 100%; height: 100%; background-color: rgba(0,0,0,0.6); z-index: 1000; } #NetworKit_Overlay_Title { position: absolute; color: white; transform: rotate(-90deg); width: 32em; height: 32em; padding-right: 0.5em; padding-top: 0.5em; text-align: right; font-size: 40px; } #NetworKit_Overlay .button { background: white; cursor: pointer; } #NetworKit_Overlay .button:before { size: 13px; display: inline-block; text-align: center; margin-top: 0.5em; margin-bottom: 0.5em; width: 1.5em; height: 1.5em; } #NetworKit_Overlay .icon-close:before { content: \"X\"; } #NetworKit_Overlay .icon-previous:before { content: \"P\"; } #NetworKit_Overlay .icon-next:before { content: \"N\"; } #NetworKit_Overlay .icon-save:before { content: \"S\"; } #NetworKit_Overlay_Toolbar_Top, #NetworKit_Overlay_Toolbar_Bottom { position: absolute; width: 40px; right: 13px; text-align: right; z-index: 1100; } #NetworKit_Overlay_Toolbar_Top { top: 0.5em; } #NetworKit_Overlay_Toolbar_Bottom { Bottom: 0.5em; } #NetworKit_Overlay_ImageContainer { position: absolute; top: 5%; left: 5%; height: 90%; width: 90%; background-repeat: no-repeat; background-position: center center; background-size: contain; } #NetworKit_Overlay_Image { height: 100%; width: 100%; background-repeat: no-repeat; background-position: center center; background-size: contain; }';\n",
       "\t\t\t\telement.setAttribute('id', 'NetworKit_style');\n",
       "\t\t\t\tdocument.head.appendChild(element);\n",
       "\t\t\t}\n",
       "\t\t\n",
       "\t\t\t\t\n",
       "\t\t\t{\n",
       "\t\t\t\tvar element = document.getElementById('NetworKit_Overlay');\n",
       "\t\t\t\tif (element) {\n",
       "\t\t\t\t\telement.parentNode.removeChild(element);\n",
       "\t\t\t\t}\n",
       "\t\t\t\telement = document.createElement('div');\n",
       "\t\t\t\telement.innerHTML = '<div id=\"NetworKit_Overlay_Toolbar_Top\"><div class=\"button icon-close\" id=\"NetworKit_Overlay_Close\" /></div><div id=\"NetworKit_Overlay_Title\" /> <div id=\"NetworKit_Overlay_ImageContainer\"> <div id=\"NetworKit_Overlay_Image\" /> </div> <div id=\"NetworKit_Overlay_Toolbar_Bottom\"> <div class=\"button icon-previous\" onclick=\"NetworKit_overlayImageShift(-1)\" /> <div class=\"button icon-next\" onclick=\"NetworKit_overlayImageShift(1)\" /> <a id=\"NetworKit_Overlay_Toolbar_Bottom_Save\"><div class=\"button icon-save\" /></a> </div>';\n",
       "\t\t\t\telement.setAttribute('id', 'NetworKit_Overlay');\n",
       "\t\t\t\tdocument.body.appendChild(element);\n",
       "\t\t\t\tdocument.getElementById('NetworKit_Overlay_Close').onclick = function (e) {\n",
       "\t\t\t\t\tdocument.getElementById('NetworKit_Overlay').style.display = 'none';\n",
       "\t\t\t\t}\n",
       "\t\t\t}\n",
       "\t\t\n",
       "\t\t\t-->\n",
       "\t\t\t</script>\n",
       "\t\t"
      ]
     },
     "metadata": {},
     "output_type": "display_data"
    }
   ],
   "source": [
    "import pickle\n",
    "import networkit as nk\n",
    "import pennylane as qml\n",
    "from pennylane import numpy as np"
   ]
  },
  {
   "cell_type": "code",
   "execution_count": 2,
   "id": "9d35573d-d4d8-4b9a-a329-a370d61594d6",
   "metadata": {
    "tags": []
   },
   "outputs": [],
   "source": [
    "from QAOA_weight_distributed import EigenBasedWeightedQAOA"
   ]
  },
  {
   "cell_type": "markdown",
   "id": "7d144016-afab-4b95-b6a9-2e1b0fcf2668",
   "metadata": {},
   "source": [
    "## Unweighted graph"
   ]
  },
  {
   "cell_type": "code",
   "execution_count": 3,
   "id": "e2acec10-26ee-41a2-9c1a-abb0a024d965",
   "metadata": {
    "tags": []
   },
   "outputs": [],
   "source": [
    "num_node = 12\n",
    "with open(f'graph_instances/Unweighted_graphs_n={num_node}.pkl', 'rb') as f:\n",
    "    graph_set = pickle.load(f)"
   ]
  },
  {
   "cell_type": "code",
   "execution_count": 4,
   "id": "ea30f853-23aa-4d56-8676-a4296b738986",
   "metadata": {
    "tags": []
   },
   "outputs": [],
   "source": [
    "ergG = graph_set[0]"
   ]
  },
  {
   "cell_type": "code",
   "execution_count": 5,
   "id": "dc99e78d-5a66-47be-99b7-ce7873f0472c",
   "metadata": {
    "tags": []
   },
   "outputs": [
    {
     "name": "stdout",
     "output_type": "stream",
     "text": [
      "Final objective: 13.19914284486146\n",
      "Parameter shape: (1, 2) (1, 2)\n"
     ]
    }
   ],
   "source": [
    "eigenbasedConstructor = EigenBasedWeightedQAOA(graph = ergG,\n",
    "                                               num_layers = 2,\n",
    "                                               qaoa_type = \"std\")\n",
    "obj, gammas, betas = eigenbasedConstructor.perform_optimization()\n",
    "print(\"Final objective:\", obj)\n",
    "print(\"Parameter shape:\", gammas.shape, betas.shape)"
   ]
  },
  {
   "cell_type": "code",
   "execution_count": 6,
   "id": "bf0a4aff-c7e2-4df0-aaa6-4b2bc4996d99",
   "metadata": {
    "tags": []
   },
   "outputs": [],
   "source": [
    "eigenbasedConstructor = EigenBasedWeightedQAOA(graph = ergG,\n",
    "                                               num_layers = 2,\n",
    "                                               qaoa_type = \"eigenbased_wd\")"
   ]
  },
  {
   "cell_type": "code",
   "execution_count": 7,
   "id": "b7ebf81e-2ec9-46e0-97ce-2990dedd499a",
   "metadata": {
    "tags": []
   },
   "outputs": [],
   "source": [
    "# for u, v, w in eigenbasedConstructor.eigenbased_graph.iterEdgesWeights():\n",
    "#     print(u, v, w)"
   ]
  },
  {
   "cell_type": "code",
   "execution_count": 8,
   "id": "27f21317-160a-4a05-ba9e-1827ba7ae441",
   "metadata": {
    "tags": []
   },
   "outputs": [
    {
     "name": "stdout",
     "output_type": "stream",
     "text": [
      "Final objective: 17.501503808076734\n",
      "Parameter shape: (22, 2) (12, 2)\n"
     ]
    }
   ],
   "source": [
    "obj, gammas, betas = eigenbasedConstructor.perform_optimization()\n",
    "print(\"Final objective:\", obj)\n",
    "print(\"Parameter shape:\", gammas.shape, betas.shape)"
   ]
  },
  {
   "cell_type": "code",
   "execution_count": 9,
   "id": "d6ee9441-e83c-4d14-baf5-7e83308b2e45",
   "metadata": {
    "tags": []
   },
   "outputs": [],
   "source": [
    "eigenbasedConstructor = EigenBasedWeightedQAOA(graph = ergG,\n",
    "                                               num_layers = 2,\n",
    "                                               qaoa_type = \"normalized_eigenbased_wd\")"
   ]
  },
  {
   "cell_type": "code",
   "execution_count": 10,
   "id": "605b42ea-f684-4462-ac4a-0144bf18a6ef",
   "metadata": {
    "tags": []
   },
   "outputs": [],
   "source": [
    "# for u, v, w in eigenbasedConstructor.eigenbased_graph.iterEdgesWeights():\n",
    "#     print(u, v, w)"
   ]
  },
  {
   "cell_type": "code",
   "execution_count": 11,
   "id": "93dd1a97-0a84-49f1-8e69-c9a5a66935c1",
   "metadata": {
    "tags": []
   },
   "outputs": [
    {
     "name": "stdout",
     "output_type": "stream",
     "text": [
      "Final objective: 15.91609766759342\n",
      "Parameter shape: (4, 2) (12, 2)\n"
     ]
    }
   ],
   "source": [
    "obj, gammas, betas = eigenbasedConstructor.perform_optimization()\n",
    "print(\"Final objective:\", obj)\n",
    "print(\"Parameter shape:\", gammas.shape, betas.shape)"
   ]
  },
  {
   "cell_type": "code",
   "execution_count": 12,
   "id": "b6829014-a573-46a0-9349-ef5af8b55056",
   "metadata": {
    "tags": []
   },
   "outputs": [],
   "source": [
    "eigenbasedConstructor = EigenBasedWeightedQAOA(graph = ergG,\n",
    "                                               num_layers = 2,\n",
    "                                               qaoa_type = \"ma\")"
   ]
  },
  {
   "cell_type": "code",
   "execution_count": 13,
   "id": "2c075407-04ab-4231-ac37-f301770fa5f3",
   "metadata": {
    "tags": []
   },
   "outputs": [
    {
     "name": "stdout",
     "output_type": "stream",
     "text": [
      "Final objective: 16.440096299441937\n",
      "Parameter shape: (24, 2) (12, 2)\n"
     ]
    }
   ],
   "source": [
    "obj, gammas, betas = eigenbasedConstructor.perform_optimization()\n",
    "print(\"Final objective:\", obj)\n",
    "print(\"Parameter shape:\", gammas.shape, betas.shape)"
   ]
  },
  {
   "cell_type": "code",
   "execution_count": 14,
   "id": "ff9918a6-3549-464e-91e3-b50a5919a814",
   "metadata": {
    "tags": []
   },
   "outputs": [],
   "source": [
    "eigenbasedConstructor = EigenBasedWeightedQAOA(graph = ergG,\n",
    "                                               num_layers = 2,\n",
    "                                               qaoa_type = \"naive_wd\")"
   ]
  },
  {
   "cell_type": "code",
   "execution_count": 15,
   "id": "8de9a9b5-2dee-4517-8250-98db2b7048ac",
   "metadata": {
    "tags": []
   },
   "outputs": [
    {
     "name": "stdout",
     "output_type": "stream",
     "text": [
      "Final objective: 13.198550996865873\n",
      "Parameter shape: (1, 2) (12, 2)\n"
     ]
    }
   ],
   "source": [
    "obj, gammas, betas = eigenbasedConstructor.perform_optimization()\n",
    "print(\"Final objective:\", obj)\n",
    "print(\"Parameter shape:\", gammas.shape, betas.shape)"
   ]
  },
  {
   "cell_type": "markdown",
   "id": "93e47cfa-a28c-46be-a9c0-6310cca20e64",
   "metadata": {},
   "source": [
    "## Weighted graph"
   ]
  },
  {
   "cell_type": "code",
   "execution_count": 3,
   "id": "b33fa019-8f20-41b2-801c-455a9ef27478",
   "metadata": {
    "tags": []
   },
   "outputs": [],
   "source": [
    "num_node = 12\n",
    "with open(f'graph_instances/random_weighted_graphs_n={num_node}.pkl', 'rb') as f:\n",
    "    graph_set = pickle.load(f)"
   ]
  },
  {
   "cell_type": "code",
   "execution_count": 4,
   "id": "1fbfe10d-d81e-4e2c-9a0b-5bbeceedd0fc",
   "metadata": {
    "tags": []
   },
   "outputs": [],
   "source": [
    "ergG = graph_set[0]"
   ]
  },
  {
   "cell_type": "code",
   "execution_count": 5,
   "id": "934f68d1-d44f-4b42-a27a-f2e0d9010d61",
   "metadata": {
    "tags": []
   },
   "outputs": [
    {
     "data": {
      "text/plain": [
       "[1.0,\n",
       " 4.0,\n",
       " 8.0,\n",
       " 10.0,\n",
       " 15.0,\n",
       " 38.0,\n",
       " 44.0,\n",
       " 50.0,\n",
       " 75.0,\n",
       " 77.0,\n",
       " 91.0,\n",
       " 99.0,\n",
       " 101.0,\n",
       " 123.0,\n",
       " 352.0,\n",
       " 368.0,\n",
       " 431.0,\n",
       " 891.0,\n",
       " 950.0,\n",
       " 4839.0,\n",
       " 9261.0,\n",
       " 35375.0,\n",
       " 903492.0]"
      ]
     },
     "execution_count": 5,
     "metadata": {},
     "output_type": "execute_result"
    }
   ],
   "source": [
    "eigenbasedConstructor = EigenBasedWeightedQAOA(graph = ergG,\n",
    "                                               num_layers = 2,\n",
    "                                               qaoa_type = \"eigenbased_wd\")\n",
    "eigenbasedConstructor.weight_distribution"
   ]
  },
  {
   "cell_type": "code",
   "execution_count": 6,
   "id": "85ed90cc-969a-47d9-a407-afcfa88e79d3",
   "metadata": {
    "tags": []
   },
   "outputs": [
    {
     "name": "stdout",
     "output_type": "stream",
     "text": [
      "Objective after step   5: -7.8502459\n",
      "Objective after step  10: -8.9691738\n",
      "Objective after step  15: -9.3850668\n",
      "Objective after step  20: -9.6157499\n",
      "Objective after step  25: -9.6717741\n",
      "Objective after step  30: -9.6809074\n",
      "Objective after step  35: -9.7539400\n",
      "Objective after step  40: -9.7761225\n",
      "Objective after step  45: -9.7940623\n",
      "Objective after step  50: -9.8194343\n",
      "Final objective: 9.819434304711006\n",
      "Parameter shape: (23, 2) (12, 2)\n"
     ]
    }
   ],
   "source": [
    "obj, gammas, betas = eigenbasedConstructor.perform_optimization()\n",
    "print(\"Final objective:\", obj)\n",
    "print(\"Parameter shape:\", gammas.shape, betas.shape)"
   ]
  },
  {
   "cell_type": "code",
   "execution_count": 7,
   "id": "975ceef6-0082-4ed0-9a6d-bc904c7818f5",
   "metadata": {
    "tags": []
   },
   "outputs": [
    {
     "data": {
      "text/plain": [
       "[0.0, 1.0, 2.0, 9.0]"
      ]
     },
     "execution_count": 7,
     "metadata": {},
     "output_type": "execute_result"
    }
   ],
   "source": [
    "eigenbasedConstructor = EigenBasedWeightedQAOA(graph = ergG,\n",
    "                                               num_layers = 2,\n",
    "                                               qaoa_type = \"normalized_eigenbased_wd\")\n",
    "eigenbasedConstructor.weight_distribution"
   ]
  },
  {
   "cell_type": "code",
   "execution_count": 8,
   "id": "78f0435d-f9cd-4307-9993-a94c21323dc6",
   "metadata": {
    "tags": []
   },
   "outputs": [
    {
     "name": "stdout",
     "output_type": "stream",
     "text": [
      "Objective after step   5: -7.1451199\n",
      "Objective after step  10: -8.4010327\n",
      "Objective after step  15: -8.4699877\n",
      "Objective after step  20: -8.6686580\n",
      "Objective after step  25: -8.7093544\n",
      "Objective after step  30: -8.7575828\n",
      "Objective after step  35: -8.7612281\n",
      "Objective after step  40: -8.7962811\n",
      "Objective after step  45: -8.8074863\n",
      "Objective after step  50: -8.8530085\n",
      "Final objective: 8.853008546075106\n",
      "Parameter shape: (4, 2) (12, 2)\n"
     ]
    }
   ],
   "source": [
    "obj, gammas, betas = eigenbasedConstructor.perform_optimization()\n",
    "print(\"Final objective:\", obj)\n",
    "print(\"Parameter shape:\", gammas.shape, betas.shape)"
   ]
  },
  {
   "cell_type": "code",
   "execution_count": 9,
   "id": "c80567ae-88c3-41f5-b027-6465ee662dcd",
   "metadata": {
    "tags": []
   },
   "outputs": [],
   "source": [
    "eigenbasedConstructor = EigenBasedWeightedQAOA(graph = ergG,\n",
    "                                               num_layers = 2,\n",
    "                                               qaoa_type = \"ma\")"
   ]
  },
  {
   "cell_type": "code",
   "execution_count": 10,
   "id": "30c71ba2-27e5-4629-b751-3f7bbada0786",
   "metadata": {
    "tags": []
   },
   "outputs": [
    {
     "name": "stdout",
     "output_type": "stream",
     "text": [
      "Objective after step   5: -7.4359426\n",
      "Objective after step  10: -8.7749181\n",
      "Objective after step  15: -9.3249459\n",
      "Objective after step  20: -9.4924009\n",
      "Objective after step  25: -9.6519806\n",
      "Objective after step  30: -9.7044842\n",
      "Objective after step  35: -9.7780161\n",
      "Objective after step  40: -9.8414502\n",
      "Objective after step  45: -9.8437439\n",
      "Objective after step  50: -9.9666764\n",
      "Final objective: 9.96667642100214\n",
      "Parameter shape: (24, 2) (12, 2)\n"
     ]
    }
   ],
   "source": [
    "obj, gammas, betas = eigenbasedConstructor.perform_optimization()\n",
    "print(\"Final objective:\", obj)\n",
    "print(\"Parameter shape:\", gammas.shape, betas.shape)"
   ]
  },
  {
   "cell_type": "code",
   "execution_count": 11,
   "id": "2b799dd6-14b7-4cc0-934c-df0a3389f772",
   "metadata": {
    "tags": []
   },
   "outputs": [],
   "source": [
    "eigenbasedConstructor = EigenBasedWeightedQAOA(graph = ergG,\n",
    "                                               num_layers = 2,\n",
    "                                               qaoa_type = \"naive_wd\")"
   ]
  },
  {
   "cell_type": "code",
   "execution_count": 12,
   "id": "2ef8cd8c-a2c0-4c08-82f5-aaad9e0f9577",
   "metadata": {
    "tags": []
   },
   "outputs": [
    {
     "name": "stdout",
     "output_type": "stream",
     "text": [
      "Objective after step   5: -7.6261305\n",
      "Objective after step  10: -8.8953708\n",
      "Objective after step  15: -9.5102203\n",
      "Objective after step  20: -9.5482258\n",
      "Objective after step  25: -9.7093981\n",
      "Objective after step  30: -9.8124512\n",
      "Objective after step  35: -9.7815464\n",
      "Objective after step  40: -9.7904023\n",
      "Objective after step  45: -9.8615719\n",
      "Objective after step  50: -9.9092574\n",
      "Final objective: 9.909257445846567\n",
      "Parameter shape: (24, 2) (12, 2)\n"
     ]
    }
   ],
   "source": [
    "obj, gammas, betas = eigenbasedConstructor.perform_optimization()\n",
    "print(\"Final objective:\", obj)\n",
    "print(\"Parameter shape:\", gammas.shape, betas.shape)"
   ]
  },
  {
   "cell_type": "markdown",
   "id": "5faa27ec-0bac-4860-bee4-2d21598a5d9a",
   "metadata": {},
   "source": [
    "## Distributed weight graph"
   ]
  },
  {
   "cell_type": "code",
   "execution_count": 23,
   "id": "d6243b2d-fe24-4e8a-a8e7-338c28b89ab7",
   "metadata": {
    "tags": []
   },
   "outputs": [],
   "source": [
    "num_node = 12\n",
    "with open(f'graph_instances/distributed_weighted_graphs_n={num_node}.pkl', 'rb') as f:\n",
    "    graph_set = pickle.load(f)"
   ]
  },
  {
   "cell_type": "code",
   "execution_count": 24,
   "id": "9c7a76a3-a791-4283-ab28-7a0800505b04",
   "metadata": {
    "tags": []
   },
   "outputs": [],
   "source": [
    "ergG = graph_set[0]"
   ]
  },
  {
   "cell_type": "code",
   "execution_count": 25,
   "id": "ff77ecd6-6e21-4f72-ae2e-6fac25e910ef",
   "metadata": {
    "tags": []
   },
   "outputs": [],
   "source": [
    "eigenbasedConstructor = EigenBasedWeightedQAOA(graph = ergG,\n",
    "                                               num_layers = 2,\n",
    "                                               qaoa_type = \"eigenbased_wd\")"
   ]
  },
  {
   "cell_type": "code",
   "execution_count": 26,
   "id": "d0183d6d-4aae-49fc-bb7e-600540553a9d",
   "metadata": {
    "tags": []
   },
   "outputs": [
    {
     "name": "stdout",
     "output_type": "stream",
     "text": [
      "0 11 2886.0\n",
      "0 3 1511.0\n",
      "0 6 1061983.0\n",
      "0 7 6543.0\n",
      "0 8 16904.0\n",
      "1 10 334.0\n",
      "1 2 203.0\n",
      "1 3 651.0\n",
      "1 8 190.0\n",
      "2 11 74.0\n",
      "2 5 3.0\n",
      "2 6 54.0\n",
      "2 8 49.0\n",
      "3 11 19796.0\n",
      "3 6 1404.0\n",
      "4 5 1.0\n",
      "4 9 2.0\n",
      "6 10 7982.0\n",
      "6 7 7705.0\n",
      "6 9 867.0\n",
      "7 8 45826.0\n",
      "7 9 1964.0\n",
      "8 9 1348.0\n",
      "10 11 14201.0\n"
     ]
    }
   ],
   "source": [
    "for u, v, w in eigenbasedConstructor.eigenbased_graph.iterEdgesWeights():\n",
    "    print(u, v, w)"
   ]
  },
  {
   "cell_type": "code",
   "execution_count": 27,
   "id": "24533bf3-adf0-45d1-9137-ee7d66fe0800",
   "metadata": {
    "tags": []
   },
   "outputs": [
    {
     "name": "stdout",
     "output_type": "stream",
     "text": [
      "Objective after step   5: -4.5574163\n",
      "Objective after step  10: -5.3720545\n",
      "Objective after step  15: -5.6929960\n",
      "Objective after step  20: -5.8154199\n",
      "Objective after step  25: -5.8546465\n",
      "Objective after step  30: -5.8834997\n",
      "Objective after step  35: -5.9102990\n",
      "Objective after step  40: -5.9335929\n",
      "Objective after step  45: -5.9504039\n",
      "Objective after step  50: -5.9600552\n"
     ]
    },
    {
     "data": {
      "text/plain": [
       "(5.960055227652411,\n",
       " tensor([[-4.90422342e+00,  5.35970485e+00],\n",
       "         [-4.25234460e-01, -1.50994265e-01],\n",
       "         [-6.03958961e-01,  8.59496568e-01],\n",
       "         [-3.73320647e-01,  1.92219219e-01],\n",
       "         [-5.52705426e+00, -5.63346287e+00],\n",
       "         [-1.15162999e-02,  1.14943266e-02],\n",
       "         [-1.23645843e-03,  1.92461724e-04],\n",
       "         [-9.61478989e-02,  9.64680237e-02],\n",
       "         [ 1.33164267e-07, -1.31389447e-03],\n",
       "         [-1.49127695e+00,  1.18582412e+00],\n",
       "         [-1.89221358e-01,  3.90864845e-02],\n",
       "         [-1.18218314e+00,  9.70166075e-01],\n",
       "         [-1.18622416e+00, -3.79769787e-04],\n",
       "         [ 3.95534464e-05, -9.60809604e-04],\n",
       "         [-2.29269678e-01,  2.15290548e-01],\n",
       "         [ 1.19889344e-01, -1.19774737e-01],\n",
       "         [-2.07379586e-01,  1.84339180e-01],\n",
       "         [-1.20448819e+00,  3.42993472e-02],\n",
       "         [-1.18647642e+00,  3.29300984e-04],\n",
       "         [-1.32968251e+00,  1.18640530e+00],\n",
       "         [-1.32395990e+00,  9.46952555e-01],\n",
       "         [-1.92230075e-06, -1.28605144e-05],\n",
       "         [ 5.23091235e-01,  1.00979637e+00],\n",
       "         [-1.06104393e-01,  3.83592396e-02]], requires_grad=True),\n",
       " tensor([[-1.53226449e-01, -8.41828336e-01],\n",
       "         [ 6.69013783e-04, -7.85323167e-01],\n",
       "         [-4.37220480e-02, -8.35866223e-01],\n",
       "         [-7.86589165e-01, -9.87161722e-01],\n",
       "         [-1.04175282e+00, -4.50417517e-01],\n",
       "         [-5.67821922e-01, -4.18183478e-01],\n",
       "         [-2.70421978e-02, -1.54173731e+00],\n",
       "         [-2.57875474e-01, -5.47272179e-01],\n",
       "         [-1.21720490e+00, -2.08910229e-01],\n",
       "         [-6.76998422e-02, -8.89160427e-01],\n",
       "         [-7.85642554e-01, -8.80115368e-01],\n",
       "         [ 8.85386522e-04, -7.85393663e-01]], requires_grad=True))"
      ]
     },
     "execution_count": 27,
     "metadata": {},
     "output_type": "execute_result"
    }
   ],
   "source": [
    "eigenbasedConstructor.perform_optimization()"
   ]
  },
  {
   "cell_type": "code",
   "execution_count": 28,
   "id": "3717f700-eb62-48cf-9247-5f3c077e0934",
   "metadata": {
    "tags": []
   },
   "outputs": [
    {
     "name": "stdout",
     "output_type": "stream",
     "text": [
      "0 11 0.0\n",
      "0 3 0.0\n",
      "0 6 0.0\n",
      "0 7 0.0\n",
      "0 8 0.0\n",
      "1 10 3.0\n",
      "1 2 5.0\n",
      "1 3 1.0\n",
      "1 8 6.0\n",
      "2 11 16.0\n",
      "2 5 397.0\n",
      "2 6 22.0\n",
      "2 8 24.0\n",
      "3 11 0.0\n",
      "3 6 0.0\n",
      "4 5 1192.0\n",
      "4 9 596.0\n",
      "6 10 0.0\n",
      "6 7 0.0\n",
      "6 9 1.0\n",
      "7 8 0.0\n",
      "7 9 0.0\n",
      "8 9 0.0\n",
      "10 11 0.0\n"
     ]
    }
   ],
   "source": [
    "eigenbasedConstructor = EigenBasedWeightedQAOA(graph = ergG,\n",
    "                                               num_layers = 2,\n",
    "                                               qaoa_type = \"normalized_eigenbased_wd\")\n",
    "for u, v, w in eigenbasedConstructor.eigenbased_graph.iterEdgesWeights():\n",
    "    print(u, v, w)"
   ]
  },
  {
   "cell_type": "code",
   "execution_count": 29,
   "id": "177cfed1-55fe-4c20-bb4d-504ec98c19a2",
   "metadata": {
    "tags": []
   },
   "outputs": [
    {
     "name": "stdout",
     "output_type": "stream",
     "text": [
      "Objective after step   5: -4.4000717\n",
      "Objective after step  10: -5.0212976\n",
      "Objective after step  15: -4.9799323\n",
      "Objective after step  20: -5.1811175\n",
      "Objective after step  25: -5.2686982\n",
      "Objective after step  30: -5.4047431\n",
      "Objective after step  35: -5.4916187\n",
      "Objective after step  40: -5.5365600\n",
      "Objective after step  45: -5.5580011\n",
      "Objective after step  50: -5.5673677\n"
     ]
    },
    {
     "data": {
      "text/plain": [
       "(5.567367690237129,\n",
       " tensor([[-1.09252058e+00,  8.05492310e-01],\n",
       "         [-1.09655093e+00,  3.79343144e-01],\n",
       "         [-2.18080136e-03, -3.43436148e-02],\n",
       "         [-9.00654779e-02, -2.17540396e+00],\n",
       "         [ 3.40646754e-02, -1.63722959e+00],\n",
       "         [ 7.59868890e-03,  8.94527609e-03],\n",
       "         [ 3.54571028e-01,  2.83986921e-01],\n",
       "         [-8.76117775e-02, -1.22242351e-01],\n",
       "         [-4.19794239e-02, -2.44768790e-02],\n",
       "         [-1.07088310e+00,  9.67868000e-01],\n",
       "         [ 4.65926404e+00,  5.11343732e+00]], requires_grad=True),\n",
       " tensor([[-0.45353396, -0.61643822],\n",
       "         [ 0.80089816, -1.53804836],\n",
       "         [-1.26536652, -0.78904201],\n",
       "         [ 0.03158343, -1.59616351],\n",
       "         [-0.31037203, -0.70325809],\n",
       "         [ 0.26840084, -0.1509648 ],\n",
       "         [-0.00172275, -1.56170129],\n",
       "         [ 0.28334074, -1.40276435],\n",
       "         [-0.45205248, -0.75635514],\n",
       "         [-0.53053524, -0.57700115],\n",
       "         [-0.77078903, -0.70720496],\n",
       "         [-0.52938308, -0.7889226 ]], requires_grad=True))"
      ]
     },
     "execution_count": 29,
     "metadata": {},
     "output_type": "execute_result"
    }
   ],
   "source": [
    "eigenbasedConstructor.perform_optimization()"
   ]
  },
  {
   "cell_type": "code",
   "execution_count": 30,
   "id": "a80d3905-2305-442b-b1ee-6989bfb3a440",
   "metadata": {
    "tags": []
   },
   "outputs": [],
   "source": [
    "eigenbasedConstructor = EigenBasedWeightedQAOA(graph = ergG,\n",
    "                                               num_layers = 2,\n",
    "                                               qaoa_type = \"ma\")"
   ]
  },
  {
   "cell_type": "code",
   "execution_count": 31,
   "id": "0e51ecab-9e94-4bcc-8bfa-d438cc063293",
   "metadata": {
    "tags": []
   },
   "outputs": [
    {
     "name": "stdout",
     "output_type": "stream",
     "text": [
      "Objective after step   5: -4.6719556\n",
      "Objective after step  10: -5.2438043\n",
      "Objective after step  15: -5.7593220\n",
      "Objective after step  20: -5.7497338\n",
      "Objective after step  25: -5.8293541\n",
      "Objective after step  30: -5.8497688\n",
      "Objective after step  35: -5.8647106\n",
      "Objective after step  40: -5.8769285\n",
      "Objective after step  45: -5.8876364\n",
      "Objective after step  50: -5.8973301\n"
     ]
    },
    {
     "data": {
      "text/plain": [
       "(5.8973300670794355,\n",
       " tensor([[ 1.03818397e-01, -1.04712536e-01],\n",
       "         [ 1.25774450e-04,  1.45019302e-04],\n",
       "         [-4.84546606e-02,  1.09774798e-03],\n",
       "         [-1.55022254e-01,  1.49164760e-01],\n",
       "         [-1.16666294e+00,  1.08410958e+00],\n",
       "         [-1.09630971e-03, -1.75060398e-04],\n",
       "         [-3.99856969e-02,  4.11438083e-02],\n",
       "         [-1.43374430e+00,  1.18868171e+00],\n",
       "         [-3.13839176e-03,  3.21848971e-04],\n",
       "         [ 1.13270141e-03, -9.68142402e-04],\n",
       "         [-1.69356953e+00,  2.33709961e+00],\n",
       "         [-5.96076850e+00, -1.57579485e+00],\n",
       "         [-7.81398979e-01,  4.82490181e-01],\n",
       "         [-9.48509782e-04,  1.75637313e-05],\n",
       "         [-1.18581379e+00, -2.08689512e-03],\n",
       "         [-4.61672973e+00,  4.92973887e+00],\n",
       "         [-4.94533868e-01, -3.51620351e-01],\n",
       "         [-1.18647782e+00, -4.07798597e-03],\n",
       "         [-1.23798743e+00,  8.44943086e-03],\n",
       "         [-1.69249578e-01, -1.68413131e-03],\n",
       "         [ 3.72818608e-01,  1.14856992e+00],\n",
       "         [-3.62006105e-01,  3.71367076e-01],\n",
       "         [-1.22080085e+00,  9.45224226e-01],\n",
       "         [-1.45812841e+00,  1.18638458e+00]], requires_grad=True),\n",
       " tensor([[-0.16807923, -0.79533446],\n",
       "         [ 0.00436188, -0.78549358],\n",
       "         [-0.17551898, -0.61706718],\n",
       "         [-0.78098729, -0.9490546 ],\n",
       "         [-1.12657623, -0.30344582],\n",
       "         [-0.30194219, -0.46119529],\n",
       "         [-0.41942268, -1.14710743],\n",
       "         [-0.23879324, -0.54755164],\n",
       "         [-1.27682945, -0.16425255],\n",
       "         [-0.00535707, -0.9403165 ],\n",
       "         [-0.7855666 , -0.96516924],\n",
       "         [ 0.00333295, -0.78539471]], requires_grad=True))"
      ]
     },
     "execution_count": 31,
     "metadata": {},
     "output_type": "execute_result"
    }
   ],
   "source": [
    "eigenbasedConstructor.perform_optimization()"
   ]
  },
  {
   "cell_type": "code",
   "execution_count": null,
   "id": "6097ae8e-d026-440f-972b-959bc20d5099",
   "metadata": {},
   "outputs": [],
   "source": []
  }
 ],
 "metadata": {
  "kernelspec": {
   "display_name": "Python [conda env:lightninggpu]",
   "language": "python",
   "name": "conda-env-lightninggpu-py"
  },
  "language_info": {
   "codemirror_mode": {
    "name": "ipython",
    "version": 3
   },
   "file_extension": ".py",
   "mimetype": "text/x-python",
   "name": "python",
   "nbconvert_exporter": "python",
   "pygments_lexer": "ipython3",
   "version": "3.12.10"
  }
 },
 "nbformat": 4,
 "nbformat_minor": 5
}
